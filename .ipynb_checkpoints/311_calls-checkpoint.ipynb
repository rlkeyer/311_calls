{
 "cells": [
  {
   "cell_type": "code",
   "execution_count": 29,
   "metadata": {},
   "outputs": [
    {
     "data": {
      "text/plain": [
       "<matplotlib.collections.PathCollection at 0x14e05be0>"
      ]
     },
     "execution_count": 29,
     "metadata": {},
     "output_type": "execute_result"
    },
    {
     "data": {
      "image/png": "[encoded data removed]",
      "text/plain": [
       "<matplotlib.figure.Figure at 0x129e19b0>"
      ]
     },
     "metadata": {},
     "output_type": "display_data"
    }
   ],
   "source": [
    "import sqlite3 as sqlite\n",
    "import pandas as pd\n",
    "import matplotlib.pyplot as plt\n",
    "\n",
    "conn = sqlite.connect('metro_311.db')\n",
    "c = conn.cursor()\n",
    "\n",
    "fields = ['service_request_id', 'requested_datetime', 'source', 'service_name', 'description']\n",
    "\n",
    "c.execute('''SELECT {0} FROM data_311'''.format(', '.join(item for item in fields)))\n",
    "\n",
    "dat = pd.DataFrame(c.fetchall())\n",
    "dat.columns = fields\n",
    "\n",
    "dat['requested_datetime'] = pd.to_datetime(dat.requested_datetime)\n",
    "\n",
    "dat['request_month'] = dat.requested_datetime.apply(lambda x: x.month)\n",
    "\n",
    "dat_agg = dat.groupby(['request_month'])[['service_name']].count()\n",
    "\n",
    "plt.scatter(dat_agg.index, dat_agg.service_name)"
   ]
  }
 ],
 "metadata": {
  "kernelspec": {
   "display_name": "Python 3",
   "language": "python",
   "name": "python3"
  },
  "language_info": {
   "codemirror_mode": {
    "name": "ipython",
    "version": 3
   },
   "file_extension": ".py",
   "mimetype": "text/x-python",
   "name": "python",
   "nbconvert_exporter": "python",
   "pygments_lexer": "ipython3",
   "version": "3.6.4"
  }
 },
 "nbformat": 4,
 "nbformat_minor": 2
}
